{
 "cells": [
  {
   "cell_type": "markdown",
   "metadata": {},
   "source": [
    "# Homework 2\n",
    "\n",
    "created by: Nick Rüdlinger"
   ]
  },
  {
   "cell_type": "markdown",
   "metadata": {},
   "source": [
    "## Merge Sorted Stream"
   ]
  },
  {
   "cell_type": "code",
   "execution_count": 30,
   "metadata": {},
   "outputs": [],
   "source": [
    "def merge_sorted_stream(stream1, stream2):\n",
    "    \"\"\"\n",
    "    Merges two sorted generator into one sorted generator\n",
    "    \"\"\"\n",
    "    it1 = iter(stream1)\n",
    "    it2 = iter(stream2)\n",
    "    \n",
    "    v1 = next(it1)\n",
    "    v2 = next(it2)\n",
    "    \n",
    "    while True:\n",
    "        if v1 <= v2:\n",
    "            yield v1\n",
    "            try:\n",
    "                v1 = next(it1)\n",
    "            except:\n",
    "                yield v2\n",
    "                for v in it2:\n",
    "                    yield v\n",
    "                break\n",
    "        else:\n",
    "            yield v2\n",
    "            try:\n",
    "                v2 = next(it2)\n",
    "            except:\n",
    "                yield v1\n",
    "                for v in it1:\n",
    "                    yield v\n",
    "                break\n",
    "    "
   ]
  },
  {
   "cell_type": "code",
   "execution_count": 37,
   "metadata": {},
   "outputs": [
    {
     "name": "stdout",
     "output_type": "stream",
     "text": [
      "0\n",
      "1\n",
      "2\n",
      "3\n",
      "4\n",
      "5\n",
      "6\n",
      "7\n",
      "8\n",
      "9\n"
     ]
    }
   ],
   "source": [
    "stream1 = range(0,10,2)\n",
    "stream2 = range(1,10,2)\n",
    "\n",
    "for x in merge_sorted_stream(stream1, stream2):\n",
    "    print(x)"
   ]
  },
  {
   "cell_type": "markdown",
   "metadata": {},
   "source": [
    "## Tree Traversal"
   ]
  },
  {
   "cell_type": "code",
   "execution_count": 66,
   "metadata": {},
   "outputs": [],
   "source": [
    "class TreeNode:    \n",
    "    # construtor, set value of this node\n",
    "    def __init__(self, val):\n",
    "        self.value = val\n",
    "        self.left = None\n",
    "        self.right = None\n",
    "    \n",
    "    # in order traversal\n",
    "    def in_order(self):\n",
    "        if self.left: yield from self.left.in_order()\n",
    "        yield self.value\n",
    "        if self.right: yield from self.right.in_order()\n",
    "            \n",
    "    # pre order traversal\n",
    "    def pre_order(self):\n",
    "        yield self.value\n",
    "        if self.left: yield from self.left.pre_order()\n",
    "        if self.right: yield from self.right.pre_order()\n",
    "            \n",
    "    # pre order traversal\n",
    "    def post_order(self):\n",
    "        if self.left: yield from self.left.post_order()\n",
    "        if self.right: yield from self.right.post_order()\n",
    "        yield self.value"
   ]
  },
  {
   "cell_type": "code",
   "execution_count": 68,
   "metadata": {},
   "outputs": [
    {
     "name": "stdout",
     "output_type": "stream",
     "text": [
      "4 -> 2 -> 5 -> 1 -> 3\n",
      "1 -> 2 -> 4 -> 5 -> 3\n",
      "4 -> 5 -> 2 -> 3 -> 1\n"
     ]
    }
   ],
   "source": [
    "root = TreeNode(1)\n",
    "root.left = TreeNode(2)\n",
    "root.right = TreeNode(3)\n",
    "root.left.left = TreeNode(4)\n",
    "root.left.right = TreeNode(5)\n",
    "\n",
    "print(\" -> \".join(str(item) for item in root.in_order()))\n",
    "print(\" -> \".join(str(item) for item in root.pre_order()))\n",
    "print(\" -> \".join(str(item) for item in root.post_order()))"
   ]
  },
  {
   "cell_type": "markdown",
   "metadata": {},
   "source": [
    "## Implement a timer"
   ]
  },
  {
   "cell_type": "code",
   "execution_count": 109,
   "metadata": {},
   "outputs": [],
   "source": [
    "import time\n",
    "from contextlib import contextmanager\n",
    "    \n",
    "@contextmanager\n",
    "def timer(*args, **kwargs):\n",
    "    start_time = time.time()\n",
    "    yield\n",
    "    print(f\"--- {time.time() - start_time} seconds ---\")"
   ]
  },
  {
   "cell_type": "markdown",
   "metadata": {},
   "source": [
    "Used as a decorator:"
   ]
  },
  {
   "cell_type": "code",
   "execution_count": 110,
   "metadata": {},
   "outputs": [
    {
     "name": "stdout",
     "output_type": "stream",
     "text": [
      "--- 2.002784490585327 seconds ---\n"
     ]
    }
   ],
   "source": [
    "@timer()\n",
    "def sleep(secs):\n",
    "    time.sleep(secs)\n",
    "    \n",
    "sleep(2)"
   ]
  },
  {
   "cell_type": "markdown",
   "metadata": {},
   "source": [
    "Used as a context manager:"
   ]
  },
  {
   "cell_type": "code",
   "execution_count": 111,
   "metadata": {},
   "outputs": [
    {
     "name": "stdout",
     "output_type": "stream",
     "text": [
      "--- 2.002091407775879 seconds ---\n"
     ]
    }
   ],
   "source": [
    "with timer() as timer:\n",
    "    time.sleep(2)"
   ]
  }
 ],
 "metadata": {
  "kernelspec": {
   "display_name": "Python 3",
   "language": "python",
   "name": "python3"
  },
  "language_info": {
   "codemirror_mode": {
    "name": "ipython",
    "version": 3
   },
   "file_extension": ".py",
   "mimetype": "text/x-python",
   "name": "python",
   "nbconvert_exporter": "python",
   "pygments_lexer": "ipython3",
   "version": "3.7.7"
  },
  "toc": {
   "base_numbering": 1,
   "nav_menu": {},
   "number_sections": true,
   "sideBar": true,
   "skip_h1_title": false,
   "title_cell": "Table of Contents",
   "title_sidebar": "Contents",
   "toc_cell": false,
   "toc_position": {},
   "toc_section_display": true,
   "toc_window_display": false
  }
 },
 "nbformat": 4,
 "nbformat_minor": 4
}
