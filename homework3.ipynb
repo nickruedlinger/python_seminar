{
 "cells": [
  {
   "cell_type": "markdown",
   "metadata": {},
   "source": [
    "# Homework 3\n",
    "\n",
    "by Nick Rüdlinger\n"
   ]
  },
  {
   "cell_type": "markdown",
   "metadata": {},
   "source": [
    "## Problem 1"
   ]
  },
  {
   "cell_type": "markdown",
   "metadata": {},
   "source": [
    "given code"
   ]
  },
  {
   "cell_type": "code",
   "execution_count": 1,
   "metadata": {},
   "outputs": [],
   "source": [
    "def func1(names, db):\n",
    "    idx = []\n",
    "    for i in names:\n",
    "        if i in db:\n",
    "            idx.append(db.index(i))\n",
    "    return idx"
   ]
  },
  {
   "cell_type": "markdown",
   "metadata": {},
   "source": [
    "implementation using numpy, without a loop"
   ]
  },
  {
   "cell_type": "code",
   "execution_count": 20,
   "metadata": {},
   "outputs": [],
   "source": [
    "import numpy as np\n",
    "\n",
    "def func1_np(names, db):\n",
    "    return np.arange(len(db))[np.isin(db, names)]"
   ]
  },
  {
   "cell_type": "markdown",
   "metadata": {},
   "source": [
    "test its behaviour"
   ]
  },
  {
   "cell_type": "code",
   "execution_count": 28,
   "metadata": {},
   "outputs": [
    {
     "name": "stdout",
     "output_type": "stream",
     "text": [
      "[0, 3, 1]\n",
      "[0 1 3]\n"
     ]
    }
   ],
   "source": [
    "# simple test\n",
    "names = [\"nick\", \"marc\", \"oli\", \"jana\"]\n",
    "db = [\"nick\", \"jana\", \"peter\", \"oli\"]\n",
    "\n",
    "print(func1(names, db))\n",
    "print(func1_np(names, db)) # returns numpy array instead of a list"
   ]
  },
  {
   "cell_type": "code",
   "execution_count": 48,
   "metadata": {},
   "outputs": [
    {
     "name": "stdout",
     "output_type": "stream",
     "text": [
      "12.2 ms ± 160 µs per loop (mean ± std. dev. of 7 runs, 100 loops each)\n",
      "5.55 ms ± 109 µs per loop (mean ± std. dev. of 7 runs, 100 loops each)\n"
     ]
    }
   ],
   "source": [
    "# bigger test to see the time effect\n",
    "import random\n",
    "import string\n",
    "\n",
    "random.seed(32)\n",
    "\n",
    "letters = string.ascii_lowercase\n",
    "\n",
    "#generate random strings of length 10\n",
    "names = [''.join(random.choice(letters) for i in range(10)) for x in range(10000)]\n",
    "\n",
    "# let db contain 20 of these words plus some single character strings\n",
    "db = [random.choice(names) for x in range(20)] + [\"a\", \"b\", \"c\", \"d\", \"e\"]\n",
    "random.shuffle(db)\n",
    "\n",
    "%timeit func1(names, db)\n",
    "%timeit func1_np(names, db)\n",
    "\n",
    "# numpy is more than twice as fast"
   ]
  },
  {
   "cell_type": "markdown",
   "metadata": {},
   "source": [
    "## Problem 2"
   ]
  },
  {
   "cell_type": "code",
   "execution_count": 112,
   "metadata": {},
   "outputs": [],
   "source": [
    "def search_pairs(coordinates, r0):\n",
    "    # calc distance matrix: pair_dist[i,j] is distance between ith and jth point\n",
    "    pair_dists = np.linalg.norm(coordinates[:, np.newaxis, :] - coordinates, axis=2)\n",
    "    # check which of the points are in the circle with radisu r0\n",
    "    points_in_r0 = np.linalg.norm(coordinates, axis = 1) < r0\n",
    "    \n",
    "    # and create a logical matrix points_in_r0' ^ points_in_r0\n",
    "    mask_r0 = points_in_r0[:, np.newaxis] ^ points_in_r0\n",
    "    # create another logical matrix that is true below the diagonal\n",
    "    mask_uniq_dists = np.tril(np.ones_like(mask_r0), k=-1)\n",
    "    \n",
    "    # select the unique distance values that are in the circle using the above two logical matrices\n",
    "    uniq_dists = pair_dists[mask_r0 & mask_uniq_dists]\n",
    "    # select the three laregst such values\n",
    "    three_largest = np.partition(uniq_dists, -3)[-3:]\n",
    "    \n",
    "    # return the indexes of these points that that are largest\n",
    "    return np.argwhere(mask_r0 & mask_uniq_dists & np.isin(pair_dists, three_largest))"
   ]
  },
  {
   "cell_type": "code",
   "execution_count": 113,
   "metadata": {},
   "outputs": [
    {
     "name": "stdout",
     "output_type": "stream",
     "text": [
      "[[2 1]\n",
      " [3 0]\n",
      " [3 1]]\n"
     ]
    }
   ],
   "source": [
    "coordinates = np.array(\n",
    "    [[0.968, 0.313],\n",
    "     [0.692, 0.876],\n",
    "     [0.895, 0.085],\n",
    "     [0.039, 0.17 ],\n",
    "     [0.878, 0.098]]\n",
    "    )\n",
    "circle_r0 = 0.9\n",
    "\n",
    "print(search_pairs(coordinates, circle_r0))\n",
    "\n"
   ]
  },
  {
   "cell_type": "code",
   "execution_count": 118,
   "metadata": {},
   "outputs": [
    {
     "name": "stdout",
     "output_type": "stream",
     "text": [
      "[[5862 1936]\n",
      " [6060 5862]\n",
      " [6144 5862]]\n"
     ]
    }
   ],
   "source": [
    "coordinates = np.random.rand(10000, 2)\n",
    "\n",
    "print(search_pairs(coordinates, 0.3))"
   ]
  }
 ],
 "metadata": {
  "kernelspec": {
   "display_name": "Python 3",
   "language": "python",
   "name": "python3"
  },
  "language_info": {
   "codemirror_mode": {
    "name": "ipython",
    "version": 3
   },
   "file_extension": ".py",
   "mimetype": "text/x-python",
   "name": "python",
   "nbconvert_exporter": "python",
   "pygments_lexer": "ipython3",
   "version": "3.7.7"
  },
  "toc": {
   "base_numbering": 1,
   "nav_menu": {},
   "number_sections": true,
   "sideBar": true,
   "skip_h1_title": false,
   "title_cell": "Table of Contents",
   "title_sidebar": "Contents",
   "toc_cell": false,
   "toc_position": {},
   "toc_section_display": true,
   "toc_window_display": false
  }
 },
 "nbformat": 4,
 "nbformat_minor": 4
}
