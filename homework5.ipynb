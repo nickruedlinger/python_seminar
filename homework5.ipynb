{
 "cells": [
  {
   "cell_type": "markdown",
   "metadata": {},
   "source": [
    "# Homework 5\n",
    "\n",
    "by: Nick Rüdlinger"
   ]
  },
  {
   "cell_type": "markdown",
   "metadata": {},
   "source": [
    "## Question 1\n",
    "\n",
    "finding kth largest element in an unsorted array"
   ]
  },
  {
   "cell_type": "code",
   "execution_count": 39,
   "metadata": {},
   "outputs": [],
   "source": [
    "import heapq\n",
    "\n",
    "def k_largest(vals, k):\n",
    "    assert len(vals) >= k, \"there are less than k values\"\n",
    "    \n",
    "    # initaize heap with the first k values: complexity O(n)\n",
    "    h = vals[:k]\n",
    "    heapq.heapify(h)\n",
    "    # push and pop the remaing items: complexity O(n*log(k))\n",
    "    for v in vals[k:]:\n",
    "        heapq.heappushpop(h, v)\n",
    "    # after that only the k biggest items reamain in the heap\n",
    "    return h[0] #: complexity O(1)\n",
    "    \n",
    "    "
   ]
  },
  {
   "cell_type": "markdown",
   "metadata": {},
   "source": [
    "The time complexity of the algorightm is O(n*log(k)) as none of the above operations require more time.\n",
    "\n",
    "**TEST Cases**"
   ]
  },
  {
   "cell_type": "code",
   "execution_count": 40,
   "metadata": {},
   "outputs": [
    {
     "name": "stdout",
     "output_type": "stream",
     "text": [
      "19\n",
      "11\n",
      "10\n",
      "9\n",
      "4\n"
     ]
    }
   ],
   "source": [
    "# case 1: simple example to begin\n",
    "c1 = [19, 9, 4, 10, 11]\n",
    "print(k_largest(c1,1))\n",
    "print(k_largest(c1,2))\n",
    "print(k_largest(c1,3))\n",
    "print(k_largest(c1,4))\n",
    "print(k_largest(c1,5))"
   ]
  },
  {
   "cell_type": "code",
   "execution_count": 41,
   "metadata": {},
   "outputs": [
    {
     "name": "stdout",
     "output_type": "stream",
     "text": [
      "3\n",
      "2\n",
      "2\n",
      "1\n"
     ]
    }
   ],
   "source": [
    "# case 2: lots of smilar values\n",
    "c2 = [1,2,1,2,1,2,1,1,2,2,3,3,3]\n",
    "print(k_largest(c2, 1))\n",
    "print(k_largest(c2, 6))\n",
    "print(k_largest(c2, 4))\n",
    "print(k_largest(c2, 10))"
   ]
  },
  {
   "cell_type": "code",
   "execution_count": 42,
   "metadata": {},
   "outputs": [
    {
     "name": "stdout",
     "output_type": "stream",
     "text": [
      "1\n",
      "1\n"
     ]
    }
   ],
   "source": [
    "# case 3: all same\n",
    "c3 = [1,1,1,1,1,1]\n",
    "print(k_largest(c3, 1))\n",
    "print(k_largest(c3, 3))"
   ]
  },
  {
   "cell_type": "code",
   "execution_count": 69,
   "metadata": {},
   "outputs": [
    {
     "name": "stdout",
     "output_type": "stream",
     "text": [
      "245.23\n",
      "0.2\n"
     ]
    }
   ],
   "source": [
    "# case 4: floats\n",
    "c4 = [0.1, 0.2, 30.3, 34.45, 245.23,1.2, 3]\n",
    "print(k_largest(c4, 1))\n",
    "print(k_largest(c4, 6))"
   ]
  },
  {
   "cell_type": "code",
   "execution_count": null,
   "metadata": {},
   "outputs": [],
   "source": []
  },
  {
   "cell_type": "markdown",
   "metadata": {},
   "source": [
    "## Question 2\n",
    "\n",
    "multithreading"
   ]
  },
  {
   "cell_type": "code",
   "execution_count": 64,
   "metadata": {},
   "outputs": [],
   "source": [
    "from queue import Queue\n",
    "import time\n",
    "import threading\n",
    "\n",
    "# initalize the queue\n",
    "def get_queue():\n",
    "    q = Queue()\n",
    "    for i in range(10000):\n",
    "        q.put(i)\n",
    "    return q\n",
    "    \n",
    "# define the threading function that gets all the elements\n",
    "def th_func(q):\n",
    "    while not q.empty():\n",
    "        q.get()\n",
    "        time.sleep(1e-5)\n",
    "        \n",
    "# define function to run the above function with multiple threads\n",
    "def start_run_threads(q, n_threads):\n",
    "    threads = list()\n",
    "    for i in range(n_threads):\n",
    "        x = threading.Thread(target=th_func, args=(q,))\n",
    "        threads.append(x)\n",
    "        x.start()\n",
    "    \n",
    "    for th in threads:\n",
    "        th.join()"
   ]
  },
  {
   "cell_type": "markdown",
   "metadata": {},
   "source": [
    "time with different number of threads\n"
   ]
  },
  {
   "cell_type": "code",
   "execution_count": 65,
   "metadata": {},
   "outputs": [
    {
     "name": "stdout",
     "output_type": "stream",
     "text": [
      "CPU times: user 407 ms, sys: 105 ms, total: 512 ms\n",
      "Wall time: 2.01 s\n"
     ]
    }
   ],
   "source": [
    "%%time \n",
    "start_run_threads(get_queue(),1)"
   ]
  },
  {
   "cell_type": "code",
   "execution_count": 66,
   "metadata": {},
   "outputs": [
    {
     "name": "stdout",
     "output_type": "stream",
     "text": [
      "CPU times: user 344 ms, sys: 113 ms, total: 457 ms\n",
      "Wall time: 542 ms\n"
     ]
    }
   ],
   "source": [
    "%%time \n",
    "start_run_threads(get_queue(),5)"
   ]
  },
  {
   "cell_type": "code",
   "execution_count": 67,
   "metadata": {},
   "outputs": [
    {
     "name": "stdout",
     "output_type": "stream",
     "text": [
      "CPU times: user 388 ms, sys: 166 ms, total: 554 ms\n",
      "Wall time: 530 ms\n"
     ]
    }
   ],
   "source": [
    "%%time \n",
    "start_run_threads(get_queue(),20)"
   ]
  },
  {
   "cell_type": "markdown",
   "metadata": {},
   "source": [
    "When running multiple threads concurrently, we get a speedup, but adding 20 instead of 5 threads, does not really increase the performence by much. This is because the function itself does not really take a long time. "
   ]
  }
 ],
 "metadata": {
  "kernelspec": {
   "display_name": "Python 3",
   "language": "python",
   "name": "python3"
  },
  "language_info": {
   "codemirror_mode": {
    "name": "ipython",
    "version": 3
   },
   "file_extension": ".py",
   "mimetype": "text/x-python",
   "name": "python",
   "nbconvert_exporter": "python",
   "pygments_lexer": "ipython3",
   "version": "3.7.7"
  },
  "toc": {
   "base_numbering": 1,
   "nav_menu": {},
   "number_sections": true,
   "sideBar": true,
   "skip_h1_title": false,
   "title_cell": "Table of Contents",
   "title_sidebar": "Contents",
   "toc_cell": false,
   "toc_position": {},
   "toc_section_display": true,
   "toc_window_display": false
  }
 },
 "nbformat": 4,
 "nbformat_minor": 4
}
